{
 "cells": [
  {
   "cell_type": "markdown",
   "metadata": {},
   "source": [
    "# Welcome to Jupyter!"
   ]
  },
  {
   "cell_type": "code",
   "execution_count": 1,
   "metadata": {},
   "outputs": [
    {
     "name": "stdout",
     "output_type": "stream",
     "text": [
      "1:Hi I am 3yrs and my name is Garfield\n",
      "I am not house trained and no one owns me\n",
      "2:Hi I am 3yrs and my name is Garfield\n",
      "I am not house trained and Jon owns me\n",
      "3:Jon\n",
      "4:Hi I am 3yrs and my name is Garfield\n",
      "I am not house trained and Jon owns me\n",
      "5:Hi I am 3yrs and my name is Garfield\n",
      "I am house trained and Jon owns me\n",
      "\n",
      "6:Hi I am 3yrs and my name is Garfield\n",
      "I am house trained and Jon owns me\n",
      "\n",
      "7:Hi I am 2yrs and my name is Beethoven\n",
      "I am not house trained and no one owns me\n",
      "\n",
      "8:Hi I am 5yrs and my name is Jake\n",
      "I am not house trained and no one owns me\n",
      "\n",
      "9:Hi I am 7yrs and my name is Stuart\n",
      "I am not house trained and no one owns me\n"
     ]
    }
   ],
   "source": [
    "class Pet:\n",
    "    __houseTrained = False\n",
    "    def __init__(self, name, age):\n",
    "        self.name = name\n",
    "        self.age = age\n",
    "        self.owner = \"no one\"\n",
    "    \n",
    "    def __str__(self):\n",
    "        if self.__houseTrained:\n",
    "            return f\"Hi I am {self.age}yrs and my name is {self.name}\\nI am house trained and {self.owner} owns me\"\n",
    "        else:\n",
    "            return f\"Hi I am {self.age}yrs and my name is {self.name}\\nI am not house trained and {self.owner} owns me\"\n",
    "    \n",
    "    def train(self):\n",
    "        self.__houseTrained = True\n",
    "\n",
    "    def set_owner(self,name):\n",
    "        self.owner = name\n",
    "        \n",
    "    \n",
    "garfield = Pet('Garfield', 3)\n",
    "x = 1\n",
    "print(f'{x}:{garfield}')\n",
    "garfield.owner = 'Jon'\n",
    "x += 1\n",
    "print(f'{x}:{garfield}')\n",
    "x += 1\n",
    "print(f'{x}:{garfield.owner}')\n",
    "garfield.set_owner('Jon')\n",
    "x += 1\n",
    "print(f'{x}:{garfield}')\n",
    "garfield.train()\n",
    "x += 1\n",
    "print(f'{x}:{garfield}')\n",
    "#create a list with about 4 pets\n",
    "pets = [garfield, Pet('Beethoven', 2), Pet('Jake', 5), Pet('Stuart', 7)]\n",
    "for p in pets:\n",
    "    x += 1\n",
    "    print(f'\\n{x}:{p}')"
   ]
  },
  {
   "cell_type": "markdown",
   "metadata": {},
   "source": [
    "This repo contains an introduction to [Jupyter](https://jupyter.org) and [IPython](https://ipython.org).\n",
    "\n",
    "Outline of some basics:\n",
    "\n",
    "* [Notebook Basics](../examples/Notebook/Notebook%20Basics.ipynb)\n",
    "* [IPython - beyond plain python](../examples/IPython%20Kernel/Beyond%20Plain%20Python.ipynb)\n",
    "* [Markdown Cells](../examples/Notebook/Working%20With%20Markdown%20Cells.ipynb)\n",
    "* [Rich Display System](../examples/IPython%20Kernel/Rich%20Output.ipynb)\n",
    "* [Custom Display logic](../examples/IPython%20Kernel/Custom%20Display%20Logic.ipynb)\n",
    "* [Running a Secure Public Notebook Server](../examples/Notebook/Running%20the%20Notebook%20Server.ipynb#Securing-the-notebook-server)\n",
    "* [How Jupyter works](../examples/Notebook/Multiple%20Languages%2C%20Frontends.ipynb) to run code in different languages."
   ]
  },
  {
   "cell_type": "markdown",
   "metadata": {},
   "source": [
    "You can also get this tutorial and run it on your laptop:\n",
    "\n",
    "    git clone https://github.com/ipython/ipython-in-depth\n",
    "\n",
    "Install IPython and Jupyter:\n",
    "\n",
    "with [conda](https://www.anaconda.com/download):\n",
    "\n",
    "    conda install ipython jupyter\n",
    "\n",
    "with pip:\n",
    "\n",
    "    # first, always upgrade pip!\n",
    "    pip install --upgrade pip\n",
    "    pip install --upgrade ipython jupyter\n",
    "\n",
    "Start the notebook in the tutorial directory:\n",
    "\n",
    "    cd ipython-in-depth\n",
    "    jupyter notebook"
   ]
  }
 ],
 "metadata": {
  "kernelspec": {
   "display_name": "Python 3",
   "language": "python",
   "name": "python3"
  },
  "language_info": {
   "codemirror_mode": {
    "name": "ipython",
    "version": 3
   },
   "file_extension": ".py",
   "mimetype": "text/x-python",
   "name": "python",
   "nbconvert_exporter": "python",
   "pygments_lexer": "ipython3",
   "version": "3.6.11"
  }
 },
 "nbformat": 4,
 "nbformat_minor": 2
}
